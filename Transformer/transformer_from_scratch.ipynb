{
 "cells": [
  {
   "cell_type": "code",
   "execution_count": 10,
   "metadata": {},
   "outputs": [],
   "source": [
    "import torch \n",
    "import torch.nn as nn \n",
    "import torch.optim as optim\n",
    "import torch.nn.functional as F\n",
    "\n",
    "import matplotlib.pyplot as plt\n",
    "import numpy as np\n",
    "import math\n",
    "\n",
    "import copy "
   ]
  },
  {
   "cell_type": "markdown",
   "metadata": {},
   "source": [
    "# Transformer model"
   ]
  },
  {
   "cell_type": "code",
   "execution_count": 3,
   "metadata": {},
   "outputs": [],
   "source": [
    "class EncoderDecoder(nn.Module):\n",
    "    def __init__(self, encoder, decoder, src_embed, tgt_embed, generator):\n",
    "        super().__init__()\n",
    "        self.encoder = encoder \n",
    "        self.decoder = decoder\n",
    "        self.src_embed = src_embed \n",
    "        self.tgt_embed = tgt_embed \n",
    "        self.generator = generator\n",
    "    \n",
    "    def forward(self, src, tgt, src_mask, tgt_mask):\n",
    "        return self.decode(\n",
    "            memory = self.encode(src, src_mask), \n",
    "            src_mask = src_mask,\n",
    "            tgt=tgt, \n",
    "            tgt_mask=tgt_mask)\n",
    "    \n",
    "    def encode(self, src, src_mask):\n",
    "        return self.encoder(self.src_embed(src), src_mask)\n",
    "    \n",
    "    def decode(self, memory, src_mask, tgt, tgt_mask):\n",
    "        return self.decoder(self.tgt_embed(tgt), memory, src_mask, tgt_mask)"
   ]
  },
  {
   "cell_type": "code",
   "execution_count": 4,
   "metadata": {},
   "outputs": [],
   "source": [
    "class Generator(nn.Module):\n",
    "    def __init__(self, d_model, vocab):\n",
    "        super().__init__()\n",
    "        self.proj = nn.Linear(d_model, vocab)\n",
    "    \n",
    "    def forward(self, x):\n",
    "        return F.log_softmax(self.proj(x), dim=-1)"
   ]
  },
  {
   "cell_type": "code",
   "execution_count": 7,
   "metadata": {},
   "outputs": [],
   "source": [
    "class LayerNorm(nn.Module):\n",
    "    def __init__(self, features, eps=1e-6):\n",
    "        super().__init__()\n",
    "        self.a_2 = nn.Parameter(torch.ones(features))\n",
    "        self.b_2 = nn.Parameter(torch.zeros(features))\n",
    "        self.eps = eps\n",
    "    \n",
    "    def forward(self, x):\n",
    "        \n",
    "        mean = x.mean(-1, keepdim=True)\n",
    "        std = x.std(-1, keepdim=True)\n",
    "        \n",
    "        return self.a_2 * (x - mean) / (std + self.eps) + self.b_2"
   ]
  },
  {
   "cell_type": "code",
   "execution_count": 44,
   "metadata": {},
   "outputs": [],
   "source": [
    "def subsequent_mask(size):\n",
    "    atten_shape = (1, size, size)\n",
    "    subsequent_mask = torch.triu(torch.ones(atten_shape), diagonal=1)\n",
    "    return subsequent_mask == 0 "
   ]
  },
  {
   "cell_type": "markdown",
   "metadata": {},
   "source": [
    "## Encoder"
   ]
  },
  {
   "cell_type": "code",
   "execution_count": 6,
   "metadata": {},
   "outputs": [],
   "source": [
    "def clones(module, N):\n",
    "    return nn.ModuleList([copy.deepcopy(module) for _ in range(N)])"
   ]
  },
  {
   "cell_type": "code",
   "execution_count": 8,
   "metadata": {},
   "outputs": [],
   "source": [
    "class Encoder(nn.Module):\n",
    "    def __init__(self, layer, N):\n",
    "        super().__init__()\n",
    "        self.layers = clones(layer, N)\n",
    "        self.norm = LayerNorm(layer.size)\n",
    "    \n",
    "    def forward(self, x, mask):\n",
    "        for layer   in self.layers:\n",
    "            x = layer(x, mask)\n",
    "        \n",
    "        return self.norm(x)"
   ]
  },
  {
   "cell_type": "code",
   "execution_count": 22,
   "metadata": {},
   "outputs": [],
   "source": [
    "class SublayerConnection(nn.Module):\n",
    "    \"\"\" A residual connection followed by a layer norm. \"\"\"\n",
    "    def __init__(self, size, dropout):\n",
    "        super().__init__()\n",
    "        self.norm = LayerNorm(size)\n",
    "        self.dropout = nn.Dropout(dropout)\n",
    "    \n",
    "    def forward(self, x, sublayer):\n",
    "        return x + self.dropout(sublayer(self.norm(x)))"
   ]
  },
  {
   "cell_type": "code",
   "execution_count": 23,
   "metadata": {},
   "outputs": [],
   "source": [
    "class EncoderLayer(nn.Module):\n",
    "    def __init__(self, size, self_attn, feed_forward, dropout):\n",
    "        super().__init__()\n",
    "        self.self_attn = self_attn \n",
    "        self.feed_forward = feed_forward \n",
    "        self.sublayer = clones(SublayerConnection(size, dropout), 2)\n",
    "        self.size = size\n",
    "    \n",
    "    def forward(self, x, mask):\n",
    "        x = self.sublayer[0](x, lambda x: self.self_attn(x, x, x, mask))\n",
    "        \n",
    "        return self.sublayer[1](x, self.feed_forward)"
   ]
  },
  {
   "cell_type": "markdown",
   "metadata": {},
   "source": [
    "## Decoder"
   ]
  },
  {
   "cell_type": "code",
   "execution_count": 24,
   "metadata": {},
   "outputs": [],
   "source": [
    "class Decoder(nn.Module):\n",
    "    def __init__(self, layer, N):\n",
    "        super().__init__()\n",
    "        self.layers = clones(layer, N)\n",
    "        self.norm = LayerNorm(layer.size)\n",
    "    \n",
    "    def forward(self, x, memory, src_mask, tgt_mask):\n",
    "        for layer in self.layers:\n",
    "            x = layer(x, memory, src_mask, tgt_mask)\n",
    "        \n",
    "        return self.norm(x)"
   ]
  },
  {
   "cell_type": "code",
   "execution_count": 25,
   "metadata": {},
   "outputs": [],
   "source": [
    "class DecoderLayer(nn.Module):\n",
    "    def __init__(self, size, self_attn, src_attn, feed_forward, dropout):\n",
    "        super().__init__()\n",
    "        self.size = size \n",
    "        self.self_attn = self_attn \n",
    "        self.src_attn = src_attn \n",
    "        self.feed_forward = feed_forward \n",
    "        self.sublayer = clones(SublayerConnection(size, dropout), 3)\n",
    "    \n",
    "    def forward(self, x, memory, src_mask, tgt_mask):\n",
    "        m = memory\n",
    "        x = self.sublayer[0](x, lambda x: self.self_attn(x, x, x, tgt_mask))\n",
    "        x = self.sublayer[1](x, lambda x: self.src_attn(x, m, m, src_mask))\n",
    "        return self.sublayer[2](x, self.feed_forward)"
   ]
  },
  {
   "cell_type": "markdown",
   "metadata": {},
   "source": [
    "## Attention"
   ]
  },
  {
   "cell_type": "markdown",
   "metadata": {},
   "source": [
    "$$\n",
    "\\text{Attention}(Q, K, V) = \\text{softmax}(\\frac{QK^T}{\\sqrt{d_k}})V\n",
    "$$"
   ]
  },
  {
   "cell_type": "code",
   "execution_count": 90,
   "metadata": {},
   "outputs": [],
   "source": [
    "def attention(query, key, value, mask=None, dropout=None):\n",
    "    # (2, 8, 10, 64)\n",
    "    d_k = key.size(-1)\n",
    "    # scores = torch.matmul(query, key.transpose(-2, -1)) / math.sqrt(d_k)\n",
    "    scores = torch.einsum('bhqx, bhkx -> bhqk', query, key) / math.sqrt(d_k)\n",
    "    if mask is not None:\n",
    "        scores = scores.masked_fill(mask == 0, -1e9)\n",
    "    p_attn = F.softmax(scores, dim=-1)\n",
    "\n",
    "    if dropout is not None:\n",
    "        p_attn = dropout(p_attn)\n",
    "\n",
    "    # return torch.matmul(p_attn, value), p_attn\n",
    "    return torch.einsum('bhqk, bhkv -> bhqv', p_attn, value), p_attn"
   ]
  },
  {
   "cell_type": "code",
   "execution_count": 91,
   "metadata": {},
   "outputs": [],
   "source": [
    "class MultiHeadedAttention(nn.Module):\n",
    "    def __init__(self, h, d_model, dropout=0.1):\n",
    "        super().__init__()\n",
    "        assert d_model % h == 0, \"d_model must be divisible by h\"\n",
    "        self.d_k = d_model // h \n",
    "        self.h = h \n",
    "        self.linears = clones(nn.Linear(d_model, d_model), 4)\n",
    "        self.attn = None \n",
    "        self.dropout = nn.Dropout(p=dropout)\n",
    "        \n",
    "    \n",
    "    def forward(self, q, k, v, mask=None):\n",
    "        print('p', q.size())\n",
    "        nbatches = q.size(0)\n",
    "        \n",
    "        if mask is not None:\n",
    "            mask = mask.unsqueeze(1)\n",
    "            \n",
    "        q, k, v = [l(x).view(nbatches, -1, self.h, self.d_k).transpose(1, 2) for l, x in zip(self.linears, (q, k, v))]\n",
    "        \n",
    "        # x: (B, H, S, D//H)\n",
    "        x, self.attn = attention(q, k, v, mask=mask, dropout=self.dropout)\n",
    "        \n",
    "        \n",
    "        x = x.transpose(1, 2).contiguous().view(nbatches, -1, self.h * self.d_k)\n",
    "        \n",
    "        return self.linears[-1](x)\n",
    "        "
   ]
  },
  {
   "cell_type": "markdown",
   "metadata": {},
   "source": [
    "## Pointwise Feedforward Network"
   ]
  },
  {
   "cell_type": "code",
   "execution_count": 92,
   "metadata": {},
   "outputs": [],
   "source": [
    "class PositionwiseFeedForward(nn.Module):\n",
    "    def __init__(self, d_model, d_ff, dropout=0.1):\n",
    "        super().__init__()\n",
    "        self.w_1 = nn.Linear(d_model, d_ff)\n",
    "        self.w_2 = nn.Linear(d_ff, d_model)\n",
    "        self.dropout = nn.Dropout(dropout)\n",
    "\n",
    "    def forward(self, x):\n",
    "        x = self.w_1(x)\n",
    "        x = self.dropout(F.relu(x))\n",
    "        x = self.w_2(x)\n",
    "        return x"
   ]
  },
  {
   "cell_type": "code",
   "execution_count": 93,
   "metadata": {},
   "outputs": [],
   "source": [
    "class Embeddings(nn.Module):\n",
    "    def __init__(self, d_model, vocab):\n",
    "        super(Embeddings, self).__init__()\n",
    "        self.lut = nn.Embedding(vocab, d_model)\n",
    "        self.d_model = d_model\n",
    "\n",
    "    def forward(self, x):\n",
    "        return self.lut(x) * math.sqrt(self.d_model)"
   ]
  },
  {
   "cell_type": "code",
   "execution_count": 94,
   "metadata": {},
   "outputs": [],
   "source": [
    "class PositionalEncoding(nn.Module):\n",
    "    \"Implement the PE function.\"\n",
    "\n",
    "    def __init__(self, d_model, dropout, max_len=5000):\n",
    "        super(PositionalEncoding, self).__init__()\n",
    "        self.dropout = nn.Dropout(p=dropout)\n",
    "\n",
    "        # Compute the positional encodings once in log space.\n",
    "        pe = torch.zeros(max_len, d_model)\n",
    "        position = torch.arange(0, max_len).unsqueeze(1)\n",
    "        div_term = torch.exp(\n",
    "            torch.arange(0, d_model, 2) * -(math.log(10000.0) / d_model)\n",
    "        )\n",
    "        pe[:, 0::2] = torch.sin(position * div_term)\n",
    "        pe[:, 1::2] = torch.cos(position * div_term)\n",
    "        pe = pe.unsqueeze(0)\n",
    "        self.register_buffer(\"pe\", pe)\n",
    "\n",
    "    def forward(self, x):\n",
    "        x = x + torch.autograd.Variable(self.pe[:, : x.size(1)], requires_grad=False)\n",
    "        return self.dropout(x)"
   ]
  },
  {
   "cell_type": "markdown",
   "metadata": {},
   "source": [
    "# Test Model"
   ]
  },
  {
   "cell_type": "code",
   "execution_count": 95,
   "metadata": {},
   "outputs": [],
   "source": [
    "d_model = 512 \n",
    "N = 6 \n",
    "d_ff = 2048 \n",
    "h =8 \n",
    "dropout = 0.1\n",
    "src_vocab = 10\n",
    "tgt_vocab = 10\n",
    "\n",
    "\n",
    "c = copy.deepcopy\n",
    "attn = MultiHeadedAttention(h, d_model)\n",
    "ff = PositionwiseFeedForward(d_model, d_ff, dropout)\n",
    "position = PositionalEncoding(d_model, dropout)\n",
    "model = EncoderDecoder(\n",
    "    Encoder(EncoderLayer(d_model, c(attn), c(ff), dropout), N),\n",
    "    Decoder(DecoderLayer(d_model, c(attn), c(attn), c(ff), dropout), N),\n",
    "    nn.Sequential(Embeddings(d_model, src_vocab), c(position)),\n",
    "    nn.Sequential(Embeddings(d_model, tgt_vocab), c(position)),\n",
    "    Generator(d_model, tgt_vocab)\n",
    "    )"
   ]
  },
  {
   "cell_type": "code",
   "execution_count": 96,
   "metadata": {},
   "outputs": [],
   "source": [
    "test_src = torch.randint(0, 10, (2, 10))\n",
    "test_tgt = torch.randint(0, 10, (2, 10))"
   ]
  },
  {
   "cell_type": "code",
   "execution_count": 97,
   "metadata": {},
   "outputs": [],
   "source": [
    "class Batch:\n",
    "    \"Object for holding a batch of data with mask during training.\"\n",
    "\n",
    "    def __init__(self, src, trg=None, pad=0):\n",
    "        self.src = src\n",
    "        self.src_mask = (src != pad).unsqueeze(-2)\n",
    "        if trg is not None:\n",
    "            self.trg = trg[:, :-1]\n",
    "            self.trg_y = trg[:, 1:]\n",
    "            self.trg_mask = self.make_std_mask(self.trg, pad)\n",
    "            self.ntokens = (self.trg_y != pad).data.sum()\n",
    "\n",
    "    @staticmethod\n",
    "    def make_std_mask(tgt, pad):\n",
    "        \"Create a mask to hide padding and future words.\"\n",
    "        tgt_mask = (tgt != pad).unsqueeze(-2)\n",
    "        tgt_mask = tgt_mask & torch.autograd.Variable(\n",
    "            subsequent_mask(tgt.size(-1)).type_as(tgt_mask.data)\n",
    "        )\n",
    "        return tgt_mask"
   ]
  },
  {
   "cell_type": "code",
   "execution_count": 98,
   "metadata": {},
   "outputs": [],
   "source": [
    "batch = Batch(test_src, test_tgt)"
   ]
  },
  {
   "cell_type": "code",
   "execution_count": 99,
   "metadata": {},
   "outputs": [
    {
     "name": "stdout",
     "output_type": "stream",
     "text": [
      "p torch.Size([2, 10, 512])\n",
      "torch.Size([2, 8, 10, 64])\n",
      "torch.Size([2, 8, 10, 64])\n",
      "torch.Size([2, 8, 10, 64])\n",
      "p torch.Size([2, 10, 512])\n",
      "torch.Size([2, 8, 10, 64])\n",
      "torch.Size([2, 8, 10, 64])\n",
      "torch.Size([2, 8, 10, 64])\n",
      "p torch.Size([2, 10, 512])\n",
      "torch.Size([2, 8, 10, 64])\n",
      "torch.Size([2, 8, 10, 64])\n",
      "torch.Size([2, 8, 10, 64])\n",
      "p torch.Size([2, 10, 512])\n",
      "torch.Size([2, 8, 10, 64])\n",
      "torch.Size([2, 8, 10, 64])\n",
      "torch.Size([2, 8, 10, 64])\n",
      "p torch.Size([2, 10, 512])\n",
      "torch.Size([2, 8, 10, 64])\n",
      "torch.Size([2, 8, 10, 64])\n",
      "torch.Size([2, 8, 10, 64])\n",
      "p torch.Size([2, 10, 512])\n",
      "torch.Size([2, 8, 10, 64])\n",
      "torch.Size([2, 8, 10, 64])\n",
      "torch.Size([2, 8, 10, 64])\n",
      "p torch.Size([2, 9, 512])\n",
      "torch.Size([2, 8, 9, 64])\n",
      "torch.Size([2, 8, 9, 64])\n",
      "torch.Size([2, 8, 9, 64])\n",
      "p torch.Size([2, 9, 512])\n",
      "torch.Size([2, 8, 9, 64])\n",
      "torch.Size([2, 8, 10, 64])\n",
      "torch.Size([2, 8, 10, 64])\n",
      "p torch.Size([2, 9, 512])\n",
      "torch.Size([2, 8, 9, 64])\n",
      "torch.Size([2, 8, 9, 64])\n",
      "torch.Size([2, 8, 9, 64])\n",
      "p torch.Size([2, 9, 512])\n",
      "torch.Size([2, 8, 9, 64])\n",
      "torch.Size([2, 8, 10, 64])\n",
      "torch.Size([2, 8, 10, 64])\n",
      "p torch.Size([2, 9, 512])\n",
      "torch.Size([2, 8, 9, 64])\n",
      "torch.Size([2, 8, 9, 64])\n",
      "torch.Size([2, 8, 9, 64])\n",
      "p torch.Size([2, 9, 512])\n",
      "torch.Size([2, 8, 9, 64])\n",
      "torch.Size([2, 8, 10, 64])\n",
      "torch.Size([2, 8, 10, 64])\n",
      "p torch.Size([2, 9, 512])\n",
      "torch.Size([2, 8, 9, 64])\n",
      "torch.Size([2, 8, 9, 64])\n",
      "torch.Size([2, 8, 9, 64])\n",
      "p torch.Size([2, 9, 512])\n",
      "torch.Size([2, 8, 9, 64])\n",
      "torch.Size([2, 8, 10, 64])\n",
      "torch.Size([2, 8, 10, 64])\n",
      "p torch.Size([2, 9, 512])\n",
      "torch.Size([2, 8, 9, 64])\n",
      "torch.Size([2, 8, 9, 64])\n",
      "torch.Size([2, 8, 9, 64])\n",
      "p torch.Size([2, 9, 512])\n",
      "torch.Size([2, 8, 9, 64])\n",
      "torch.Size([2, 8, 10, 64])\n",
      "torch.Size([2, 8, 10, 64])\n",
      "p torch.Size([2, 9, 512])\n",
      "torch.Size([2, 8, 9, 64])\n",
      "torch.Size([2, 8, 9, 64])\n",
      "torch.Size([2, 8, 9, 64])\n",
      "p torch.Size([2, 9, 512])\n",
      "torch.Size([2, 8, 9, 64])\n",
      "torch.Size([2, 8, 10, 64])\n",
      "torch.Size([2, 8, 10, 64])\n"
     ]
    }
   ],
   "source": [
    "out = model(batch.src, batch.trg, batch.src_mask, batch.trg_mask)"
   ]
  },
  {
   "cell_type": "markdown",
   "metadata": {},
   "source": [
    "# Training "
   ]
  },
  {
   "cell_type": "code",
   "execution_count": null,
   "metadata": {},
   "outputs": [],
   "source": [
    "from ..utils.engine import train \n",
    "from ..utils.plots import visualize_attention"
   ]
  },
  {
   "cell_type": "code",
   "execution_count": null,
   "metadata": {},
   "outputs": [],
   "source": [
    "class LabelSmoothing(nn.Module):\n",
    "    def __init__(self, size, padding_idx, smoothing=0.0):\n",
    "        super().__init__()\n",
    "        self.criterion = nn.KLDivLoss(size_average=False)\n",
    "        self.padding_idx = padding_idx\n",
    "        self.confidence = 1.0 - smoothing\n",
    "        self.smoothing = smoothing\n",
    "        self.size = size \n",
    "        self.true_dist = None\n",
    "    \n",
    "    def forward(self, x, target):\n",
    "        assert x.size(1) == self.size\n",
    "        \n",
    "        true_dist = x.data.clone()\n",
    "        true_dist.fill_(self.smoothing / (self.size - 2))\n",
    "        true_dist.scatter_(1, target.data.unsqueeze(1), self.confidence)\n",
    "        true_dist[:, self.padding_idx] = 0\n",
    "        mask = torch.nonzero(target.data == self.padding_idx)\n",
    "        if mask.dim() > 0:\n",
    "            true_dist.index_fill_(0, mask.squeeze(), 0.0)\n",
    "        \n",
    "        self.true_dist = true_dist\n",
    "        return self.criterion(x, torch.autograd.Variable(true_dist, requires_grad=False))"
   ]
  }
 ],
 "metadata": {
  "kernelspec": {
   "display_name": ".env",
   "language": "python",
   "name": "python3"
  },
  "language_info": {
   "codemirror_mode": {
    "name": "ipython",
    "version": 3
   },
   "file_extension": ".py",
   "mimetype": "text/x-python",
   "name": "python",
   "nbconvert_exporter": "python",
   "pygments_lexer": "ipython3",
   "version": "3.10.0"
  }
 },
 "nbformat": 4,
 "nbformat_minor": 2
}
